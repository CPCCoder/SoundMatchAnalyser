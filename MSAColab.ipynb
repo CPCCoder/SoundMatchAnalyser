{
  "nbformat": 4,
  "nbformat_minor": 0,
  "metadata": {
    "colab": {
      "provenance": [],
      "authorship_tag": "ABX9TyO2YapcN29tlgyMyEy6A6cw",
      "include_colab_link": true
    },
    "kernelspec": {
      "name": "python3",
      "display_name": "Python 3"
    },
    "language_info": {
      "name": "python"
    }
  },
  "cells": [
    {
      "cell_type": "markdown",
      "metadata": {
        "id": "view-in-github",
        "colab_type": "text"
      },
      "source": [
        "<a href=\"https://colab.research.google.com/github/CPCCoder/SoundMatchAnalyser/blob/master/MSAColab.ipynb\" target=\"_parent\"><img src=\"https://colab.research.google.com/assets/colab-badge.svg\" alt=\"Open In Colab\"/></a>"
      ]
    },
    {
      "cell_type": "code",
      "execution_count": null,
      "metadata": {
        "id": "8hF2gDHQZoWc"
      },
      "outputs": [],
      "source": [
        "# Cell 1: Store the original directory\n",
        "import os\n",
        "original_dir = os.getcwd()\n",
        "\n",
        "# Clone the GitHub Repository\n",
        "!git clone https://github.com/CPCCoder/SoundMatchAnalyser.git\n",
        "\n",
        "# Cell 2: Install the required libraries\n",
        "!pip install numpy scipy pyloudnorm pesq librosa\n",
        "\n",
        "# Cell 3: Verify installation of pyloudnorm\n",
        "import pyloudnorm as pyln\n",
        "\n",
        "# Cell 4: Import functions from the Functions.py file\n",
        "import sys\n",
        "sys.path.append('SoundMatchAnalyser')\n",
        "from Functions import *\n",
        "\n",
        "# Cell 5: Instructions for the user to upload files\n",
        "print(\"Please upload your 'input' and 'inference' files using the file explorer on the left side.\")\n",
        "print(\"Make sure the files are named 'input.wav' and 'inference.wav'. After uploading, run the next cell to proceed.\")\n",
        "\n",
        "# Cell 6: Check if files are present in the parent directory\n",
        "parent_dir = '.'\n",
        "input_filename = os.path.join(parent_dir, 'input.wav')\n",
        "inference_filename = os.path.join(parent_dir, 'inference.wav')\n",
        "\n",
        "# Function to check if a file exists in a case insensitive manner\n",
        "def file_exists_case_insensitive(directory, filename):\n",
        "    return any(f.lower() == filename.lower() for f in os.listdir(directory))\n",
        "\n",
        "# Check if files exist in the parent directory\n",
        "if not file_exists_case_insensitive(parent_dir, 'input.wav'):\n",
        "    raise FileNotFoundError(f\"File 'input.wav' not found in {parent_dir}. Please upload it to the parent directory and try again.\")\n",
        "if not file_exists_case_insensitive(parent_dir, 'inference.wav'):\n",
        "    raise FileNotFoundError(f\"File 'inference.wav' not found in {parent_dir}. Please upload it to the parent directory and try again.\")\n",
        "\n",
        "# Cell 7: Compute the statistics based on the uploaded files\n",
        "input_filepath = os.path.join(parent_dir, next(f for f in os.listdir(parent_dir) if f.lower() == 'input.wav'))\n",
        "inference_filepath = os.path.join(parent_dir, next(f for f in os.listdir(parent_dir) if f.lower() == 'inference.wav'))\n",
        "\n",
        "difffile = 'difference_output.wav'\n",
        "results = calculate_stats(input_filepath, inference_filepath, difffile)\n",
        "\n",
        "# Round the results to a maximum of 5 decimal places\n",
        "rounded_results = {key: round(value, 5) if isinstance(value, (float, int)) else value for key, value in results.items()}\n",
        "\n",
        "# Print the results in a better format using HTML\n",
        "from IPython.display import display, HTML\n",
        "\n",
        "display(HTML(f\"\"\"\n",
        "<h2><b>Combined Score:</b> {rounded_results[\"combined_score\"]}</h2>\n",
        "<p><b>PEAQ:</b> {rounded_results[\"peaq\"]}</p>\n",
        "<p><b>LUFS:</b> {rounded_results[\"best_lufs\"]} [LUFS]</p>\n",
        "<p><b>SNR:</b> {rounded_results[\"snr\"]} [dB]</p>\n",
        "<p><b>THD:</b> {rounded_results[\"thd\"]} [%]</p>\n",
        "<p><b>Gain (Scale):</b> {rounded_results[\"best_scale\"]}</p>\n",
        "<p><b>MSE:</b> {rounded_results[\"mse\"]}</p>\n",
        "\"\"\"))\n",
        "\n",
        "# Return to the original directory (if needed)\n",
        "%cd $original_dir\n"
      ]
    },
    {
      "cell_type": "markdown",
      "source": [],
      "metadata": {
        "id": "Xq9aDTwPjJVB"
      }
    }
  ]
}