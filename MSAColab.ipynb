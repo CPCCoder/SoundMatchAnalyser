{
  "nbformat": 4,
  "nbformat_minor": 0,
  "metadata": {
    "colab": {
      "provenance": [],
      "authorship_tag": "ABX9TyO2YapcN29tlgyMyEy6A6cw",
      "include_colab_link": true
    },
    "kernelspec": {
      "name": "python3",
      "display_name": "Python 3"
    },
    "language_info": {
      "name": "python"
    }
  },
  "cells": [
    {
      "cell_type": "markdown",
      "metadata": {
        "id": "view-in-github",
        "colab_type": "text"
      },
      "source": [
        "<a href=\"https://colab.research.google.com/github/CPCCoder/SoundMatchAnalyser/blob/master/MSAColab.ipynb\" target=\"_parent\"><img src=\"https://colab.research.google.com/assets/colab-badge.svg\" alt=\"Open In Colab\"/></a>"
      ]
    },
    {
      "cell_type": "code",
      "execution_count": 1,
      "metadata": {
        "colab": {
          "base_uri": "https://localhost:8080/",
          "height": 1000
        },
        "id": "8hF2gDHQZoWc",
        "outputId": "25263ece-e601-4f44-af3d-ef3d6c8f5c78"
      },
      "outputs": [
        {
          "output_type": "stream",
          "name": "stdout",
          "text": [
            "Cloning into 'SoundMatchAnalyser'...\n",
            "remote: Enumerating objects: 29, done.\u001b[K\n",
            "remote: Counting objects: 100% (29/29), done.\u001b[K\n",
            "remote: Compressing objects: 100% (22/22), done.\u001b[K\n",
            "remote: Total 29 (delta 12), reused 24 (delta 7), pack-reused 0 (from 0)\u001b[K\n",
            "Receiving objects: 100% (29/29), 24.28 KiB | 857.00 KiB/s, done.\n",
            "Resolving deltas: 100% (12/12), done.\n",
            "Requirement already satisfied: numpy in /usr/local/lib/python3.10/dist-packages (1.26.4)\n",
            "Requirement already satisfied: scipy in /usr/local/lib/python3.10/dist-packages (1.13.1)\n",
            "Collecting pyloudnorm\n",
            "  Downloading pyloudnorm-0.1.1-py3-none-any.whl.metadata (5.6 kB)\n",
            "Collecting pesq\n",
            "  Downloading pesq-0.0.4.tar.gz (38 kB)\n",
            "  Preparing metadata (setup.py) ... \u001b[?25l\u001b[?25hdone\n",
            "Requirement already satisfied: librosa in /usr/local/lib/python3.10/dist-packages (0.10.2.post1)\n",
            "Requirement already satisfied: future>=0.16.0 in /usr/local/lib/python3.10/dist-packages (from pyloudnorm) (1.0.0)\n",
            "Requirement already satisfied: audioread>=2.1.9 in /usr/local/lib/python3.10/dist-packages (from librosa) (3.0.1)\n",
            "Requirement already satisfied: scikit-learn>=0.20.0 in /usr/local/lib/python3.10/dist-packages (from librosa) (1.6.0)\n",
            "Requirement already satisfied: joblib>=0.14 in /usr/local/lib/python3.10/dist-packages (from librosa) (1.4.2)\n",
            "Requirement already satisfied: decorator>=4.3.0 in /usr/local/lib/python3.10/dist-packages (from librosa) (4.4.2)\n",
            "Requirement already satisfied: numba>=0.51.0 in /usr/local/lib/python3.10/dist-packages (from librosa) (0.60.0)\n",
            "Requirement already satisfied: soundfile>=0.12.1 in /usr/local/lib/python3.10/dist-packages (from librosa) (0.12.1)\n",
            "Requirement already satisfied: pooch>=1.1 in /usr/local/lib/python3.10/dist-packages (from librosa) (1.8.2)\n",
            "Requirement already satisfied: soxr>=0.3.2 in /usr/local/lib/python3.10/dist-packages (from librosa) (0.5.0.post1)\n",
            "Requirement already satisfied: typing-extensions>=4.1.1 in /usr/local/lib/python3.10/dist-packages (from librosa) (4.12.2)\n",
            "Requirement already satisfied: lazy-loader>=0.1 in /usr/local/lib/python3.10/dist-packages (from librosa) (0.4)\n",
            "Requirement already satisfied: msgpack>=1.0 in /usr/local/lib/python3.10/dist-packages (from librosa) (1.1.0)\n",
            "Requirement already satisfied: packaging in /usr/local/lib/python3.10/dist-packages (from lazy-loader>=0.1->librosa) (24.2)\n",
            "Requirement already satisfied: llvmlite<0.44,>=0.43.0dev0 in /usr/local/lib/python3.10/dist-packages (from numba>=0.51.0->librosa) (0.43.0)\n",
            "Requirement already satisfied: platformdirs>=2.5.0 in /usr/local/lib/python3.10/dist-packages (from pooch>=1.1->librosa) (4.3.6)\n",
            "Requirement already satisfied: requests>=2.19.0 in /usr/local/lib/python3.10/dist-packages (from pooch>=1.1->librosa) (2.32.3)\n",
            "Requirement already satisfied: threadpoolctl>=3.1.0 in /usr/local/lib/python3.10/dist-packages (from scikit-learn>=0.20.0->librosa) (3.5.0)\n",
            "Requirement already satisfied: cffi>=1.0 in /usr/local/lib/python3.10/dist-packages (from soundfile>=0.12.1->librosa) (1.17.1)\n",
            "Requirement already satisfied: pycparser in /usr/local/lib/python3.10/dist-packages (from cffi>=1.0->soundfile>=0.12.1->librosa) (2.22)\n",
            "Requirement already satisfied: charset-normalizer<4,>=2 in /usr/local/lib/python3.10/dist-packages (from requests>=2.19.0->pooch>=1.1->librosa) (3.4.0)\n",
            "Requirement already satisfied: idna<4,>=2.5 in /usr/local/lib/python3.10/dist-packages (from requests>=2.19.0->pooch>=1.1->librosa) (3.10)\n",
            "Requirement already satisfied: urllib3<3,>=1.21.1 in /usr/local/lib/python3.10/dist-packages (from requests>=2.19.0->pooch>=1.1->librosa) (2.2.3)\n",
            "Requirement already satisfied: certifi>=2017.4.17 in /usr/local/lib/python3.10/dist-packages (from requests>=2.19.0->pooch>=1.1->librosa) (2024.12.14)\n",
            "Downloading pyloudnorm-0.1.1-py3-none-any.whl (9.6 kB)\n",
            "Building wheels for collected packages: pesq\n",
            "  Building wheel for pesq (setup.py) ... \u001b[?25l\u001b[?25hdone\n",
            "  Created wheel for pesq: filename=pesq-0.0.4-cp310-cp310-linux_x86_64.whl size=262946 sha256=8a874070742255ca8afd30e89f68e9a27b58e09d10e08023bf8e33e6513ed1f1\n",
            "  Stored in directory: /root/.cache/pip/wheels/c5/4e/2c/251524370c0fdd659e99639a0fbd0ca5a782c3aafcd456b28d\n",
            "Successfully built pesq\n",
            "Installing collected packages: pesq, pyloudnorm\n",
            "Successfully installed pesq-0.0.4 pyloudnorm-0.1.1\n",
            "Please upload your 'input' and 'inference' files using the file explorer on the left side.\n",
            "Make sure the files are named 'input.wav' and 'inference.wav'. After uploading, run the next cell to proceed.\n"
          ]
        },
        {
          "output_type": "error",
          "ename": "FileNotFoundError",
          "evalue": "File 'input.wav' not found in .. Please upload it to the parent directory and try again.",
          "traceback": [
            "\u001b[0;31m---------------------------------------------------------------------------\u001b[0m",
            "\u001b[0;31mFileNotFoundError\u001b[0m                         Traceback (most recent call last)",
            "\u001b[0;32m<ipython-input-1-cc2f05ada2b1>\u001b[0m in \u001b[0;36m<cell line: 33>\u001b[0;34m()\u001b[0m\n\u001b[1;32m     32\u001b[0m \u001b[0;31m# Check if files exist in the parent directory\u001b[0m\u001b[0;34m\u001b[0m\u001b[0;34m\u001b[0m\u001b[0m\n\u001b[1;32m     33\u001b[0m \u001b[0;32mif\u001b[0m \u001b[0;32mnot\u001b[0m \u001b[0mfile_exists_case_insensitive\u001b[0m\u001b[0;34m(\u001b[0m\u001b[0mparent_dir\u001b[0m\u001b[0;34m,\u001b[0m \u001b[0;34m'input.wav'\u001b[0m\u001b[0;34m)\u001b[0m\u001b[0;34m:\u001b[0m\u001b[0;34m\u001b[0m\u001b[0;34m\u001b[0m\u001b[0m\n\u001b[0;32m---> 34\u001b[0;31m     \u001b[0;32mraise\u001b[0m \u001b[0mFileNotFoundError\u001b[0m\u001b[0;34m(\u001b[0m\u001b[0;34mf\"File 'input.wav' not found in {parent_dir}. Please upload it to the parent directory and try again.\"\u001b[0m\u001b[0;34m)\u001b[0m\u001b[0;34m\u001b[0m\u001b[0;34m\u001b[0m\u001b[0m\n\u001b[0m\u001b[1;32m     35\u001b[0m \u001b[0;32mif\u001b[0m \u001b[0;32mnot\u001b[0m \u001b[0mfile_exists_case_insensitive\u001b[0m\u001b[0;34m(\u001b[0m\u001b[0mparent_dir\u001b[0m\u001b[0;34m,\u001b[0m \u001b[0;34m'inference.wav'\u001b[0m\u001b[0;34m)\u001b[0m\u001b[0;34m:\u001b[0m\u001b[0;34m\u001b[0m\u001b[0;34m\u001b[0m\u001b[0m\n\u001b[1;32m     36\u001b[0m     \u001b[0;32mraise\u001b[0m \u001b[0mFileNotFoundError\u001b[0m\u001b[0;34m(\u001b[0m\u001b[0;34mf\"File 'inference.wav' not found in {parent_dir}. Please upload it to the parent directory and try again.\"\u001b[0m\u001b[0;34m)\u001b[0m\u001b[0;34m\u001b[0m\u001b[0;34m\u001b[0m\u001b[0m\n",
            "\u001b[0;31mFileNotFoundError\u001b[0m: File 'input.wav' not found in .. Please upload it to the parent directory and try again."
          ]
        }
      ],
      "source": [
        "# Cell 1: Store the original directory\n",
        "import os\n",
        "original_dir = os.getcwd()\n",
        "\n",
        "# Clone the GitHub Repository\n",
        "!git clone https://github.com/CPCCoder/SoundMatchAnalyser.git\n",
        "\n",
        "# Cell 2: Install the required libraries\n",
        "!pip install numpy scipy pyloudnorm pesq librosa\n",
        "\n",
        "# Cell 3: Verify installation of pyloudnorm\n",
        "import pyloudnorm as pyln\n",
        "\n",
        "# Cell 4: Import functions from the Functions.py file\n",
        "import sys\n",
        "sys.path.append('SoundMatchAnalyser')\n",
        "from Functions import *\n",
        "\n",
        "# Cell 5: Instructions for the user to upload files\n",
        "print(\"Please upload your 'input' and 'inference' files using the file explorer on the left side.\")\n",
        "print(\"Make sure the files are named 'input.wav' and 'inference.wav'. After uploading, run the next cell to proceed.\")\n",
        "\n",
        "# Cell 6: Check if files are present in the parent directory\n",
        "parent_dir = '.'\n",
        "input_filename = os.path.join(parent_dir, 'input.wav')\n",
        "inference_filename = os.path.join(parent_dir, 'inference.wav')\n",
        "\n",
        "# Function to check if a file exists in a case insensitive manner\n",
        "def file_exists_case_insensitive(directory, filename):\n",
        "    return any(f.lower() == filename.lower() for f in os.listdir(directory))\n",
        "\n",
        "# Check if files exist in the parent directory\n",
        "if not file_exists_case_insensitive(parent_dir, 'input.wav'):\n",
        "    raise FileNotFoundError(f\"File 'input.wav' not found in {parent_dir}. Please upload it to the parent directory and try again.\")\n",
        "if not file_exists_case_insensitive(parent_dir, 'inference.wav'):\n",
        "    raise FileNotFoundError(f\"File 'inference.wav' not found in {parent_dir}. Please upload it to the parent directory and try again.\")\n",
        "\n",
        "# Cell 7: Compute the statistics based on the uploaded files\n",
        "input_filepath = os.path.join(parent_dir, next(f for f in os.listdir(parent_dir) if f.lower() == 'input.wav'))\n",
        "inference_filepath = os.path.join(parent_dir, next(f for f in os.listdir(parent_dir) if f.lower() == 'inference.wav'))\n",
        "\n",
        "difffile = 'difference_output.wav'\n",
        "results = calculate_stats(input_filepath, inference_filepath, difffile)\n",
        "\n",
        "# Round the results to a maximum of 5 decimal places\n",
        "rounded_results = {key: round(value, 5) if isinstance(value, (float, int)) else value for key, value in results.items()}\n",
        "\n",
        "# Print the results in a better format using HTML\n",
        "from IPython.display import display, HTML\n",
        "\n",
        "display(HTML(f\"\"\"\n",
        "<h2><b>Combined Score:</b> {rounded_results[\"combined_score\"]}</h2>\n",
        "<p><b>PEAQ:</b> {rounded_results[\"peaq\"]}</p>\n",
        "<p><b>LUFS:</b> {rounded_results[\"best_lufs\"]} [LUFS]</p>\n",
        "<p><b>SNR:</b> {rounded_results[\"snr\"]} [dB]</p>\n",
        "<p><b>THD:</b> {rounded_results[\"thd\"]} [%]</p>\n",
        "<p><b>Gain (Scale):</b> {rounded_results[\"best_scale\"]}</p>\n",
        "<p><b>MSE:</b> {rounded_results[\"mse\"]}</p>\n",
        "\"\"\"))\n",
        "\n",
        "# Return to the original directory (if needed)\n",
        "%cd $original_dir\n"
      ]
    },
    {
      "cell_type": "markdown",
      "source": [],
      "metadata": {
        "id": "Xq9aDTwPjJVB"
      }
    }
  ]
}